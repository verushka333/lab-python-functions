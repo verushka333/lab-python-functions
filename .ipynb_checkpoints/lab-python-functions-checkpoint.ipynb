{
 "cells": [
  {
   "cell_type": "markdown",
   "id": "25d7736c-ba17-4aff-b6bb-66eba20fbf4e",
   "metadata": {},
   "source": [
    "# Lab | Functions"
   ]
  },
  {
   "cell_type": "markdown",
   "id": "0c581062-8967-4d93-b06e-62833222f930",
   "metadata": {
    "tags": []
   },
   "source": [
    "## Exercise: Managing Customer Orders with Functions\n",
    "\n",
    "In the previous exercise, you improved the code for managing customer orders by using loops and flow control. Now, let's take it a step further and refactor the code by introducing functions.\n",
    "\n",
    "Follow the steps below to complete the exercise:\n",
    "\n",
    "1. Define a function named `initialize_inventory` that takes `products` as a parameter. Inside the function, implement the code for initializing the inventory dictionary using a loop and user input.\n",
    "\n",
    "2. Define a function named `get_customer_orders` that takes no parameters. Inside the function, implement the code for prompting the user to enter the product names using a loop. The function should return the `customer_orders` set.\n",
    "\n",
    "3. Define a function named `update_inventory` that takes `customer_orders` and `inventory` as parameters. Inside the function, implement the code for updating the inventory dictionary based on the customer orders.\n",
    "\n",
    "4. Define a function named `calculate_order_statistics` that takes `customer_orders` and `products` as parameters. Inside the function, implement the code for calculating the order statistics (total products ordered, and percentage of unique products ordered). The function should return these values.\n",
    "\n",
    "5. Define a function named `print_order_statistics` that takes `order_statistics` as a parameter. Inside the function, implement the code for printing the order statistics.\n",
    "\n",
    "6. Define a function named `print_updated_inventory` that takes `inventory` as a parameter. Inside the function, implement the code for printing the updated inventory.\n",
    "\n",
    "7. Call the functions in the appropriate sequence to execute the program and manage customer orders.\n",
    "\n",
    "Hints for functions:\n",
    "\n",
    "- Consider the input parameters required for each function and their return values.\n",
    "- Utilize function parameters and return values to transfer data between functions.\n",
    "- Test your functions individually to ensure they work correctly.\n",
    "\n",
    "\n"
   ]
  },
  {
   "cell_type": "code",
   "execution_count": 52,
   "id": "d97acf4f",
   "metadata": {},
   "outputs": [],
   "source": [
    "def initialize_inventory(products):\n",
    "    \"\"\"initializing the inventory dictionary using a loop and user input\"\"\"\n",
    "    inventory = {}\n",
    "    for i in products:\n",
    "        inventory_list = input(f'Enter quantity of {i} available: ')\n",
    "        while not inventory_list.isdigit():\n",
    "            inventory_list = input(f'Enter quantity of {i} available, need to be a valid digit: ')\n",
    "        inventory[i] = int(inventory_list)\n",
    "    return inventory\n",
    "        "
   ]
  },
  {
   "cell_type": "code",
   "execution_count": 59,
   "id": "dbb863b4",
   "metadata": {},
   "outputs": [],
   "source": [
    "def get_customer_orders():\n",
    "    \"\"\"prompting the user to enter the product names using a loop\"\"\"\n",
    "    customer_orders = set()\n",
    "    while True:\n",
    "        product_name = input((f\"Enter the name of product {o+1} you want to order (choose from {products}) (or 'quit' to finish):\"))\n",
    "        if product_name == 'quit':\n",
    "            break\n",
    "        customer_orders.add(product_name)\n",
    "    return customer_orders"
   ]
  },
  {
   "cell_type": "code",
   "execution_count": 81,
   "id": "a9dd8e8f",
   "metadata": {},
   "outputs": [],
   "source": [
    "def update_inventory(customer_orders, inventory):\n",
    "    \"\"\"updating the inventory dictionary based on the customer orders.\"\"\"\n",
    "    new_inventory = inventory.copy()\n",
    "    for key, value in inventory.items():\n",
    "        if key in customer_orders:\n",
    "            new_value = (value-1)\n",
    "            new_inventory[key] = new_value\n",
    "    return new_inventory"
   ]
  },
  {
   "cell_type": "code",
   "execution_count": 87,
   "id": "a2fb74fd",
   "metadata": {},
   "outputs": [],
   "source": [
    "def calculate_order_statistics(customer_orders, inventory):\n",
    "    \"\"\"calculating the order statistics\"\"\"\n",
    "    quantity_of_products = sum(inventory.values())\n",
    "    total_purchased = len(customer_order)\n",
    "    order_status = (total_purchased/quantity_of_products)*100\n",
    "    return total_purchased, order_status\n"
   ]
  },
  {
   "cell_type": "code",
   "execution_count": 62,
   "id": "b94bf7bd",
   "metadata": {},
   "outputs": [],
   "source": [
    "def print_order_statistics(order_statistics):\n",
    "    \"\"\"printing the order statistics\"\"\"\n",
    "    print(order_statistics)\n",
    "\n",
    "def print_updated_inventory(inventory):\n",
    "    \"\"\"printing the updated inventory\"\"\"\n",
    "    print(inventory)\n"
   ]
  },
  {
   "cell_type": "code",
   "execution_count": 97,
   "id": "16c349b0",
   "metadata": {},
   "outputs": [
    {
     "name": "stdout",
     "output_type": "stream",
     "text": [
      "Enter quantity of t-shirt available: 8\n",
      "Enter quantity of mug available: 2\n",
      "Enter quantity of hat available: 3\n",
      "Enter quantity of book available: 4\n",
      "Enter quantity of keychain available: 2\n",
      "Enter the name of product 3 you want to order (choose from ['t-shirt', 'mug', 'hat', 'book', 'keychain']) (or 'quit' to finish):4\n",
      "Enter the name of product 3 you want to order (choose from ['t-shirt', 'mug', 'hat', 'book', 'keychain']) (or 'quit' to finish):book\n",
      "Enter the name of product 3 you want to order (choose from ['t-shirt', 'mug', 'hat', 'book', 'keychain']) (or 'quit' to finish):hat\n",
      "Enter the name of product 3 you want to order (choose from ['t-shirt', 'mug', 'hat', 'book', 'keychain']) (or 'quit' to finish):book\n",
      "Enter the name of product 3 you want to order (choose from ['t-shirt', 'mug', 'hat', 'book', 'keychain']) (or 'quit' to finish):keychain\n",
      "Enter the name of product 3 you want to order (choose from ['t-shirt', 'mug', 'hat', 'book', 'keychain']) (or 'quit' to finish):mug\n",
      "Enter the name of product 3 you want to order (choose from ['t-shirt', 'mug', 'hat', 'book', 'keychain']) (or 'quit' to finish):quit\n",
      "(3, 20.0)\n",
      "{'t-shirt': 8, 'mug': 1, 'hat': 2, 'book': 3, 'keychain': 1}\n"
     ]
    }
   ],
   "source": [
    "products = [\"t-shirt\", \"mug\", \"hat\", \"book\", \"keychain\"]\n",
    "inventory = initialize_inventory(products)\n",
    "customer_orders = get_customer_orders()\n",
    "inventory = update_inventory(customer_orders, inventory)\n",
    "order_statistics = calculate_order_statistics(customer_orders, inventory)\n",
    "print_order_statistics(order_statistics)\n",
    "print_updated_inventory(inventory)"
   ]
  }
 ],
 "metadata": {
  "kernelspec": {
   "display_name": "Python 3 (ipykernel)",
   "language": "python",
   "name": "python3"
  },
  "language_info": {
   "codemirror_mode": {
    "name": "ipython",
    "version": 3
   },
   "file_extension": ".py",
   "mimetype": "text/x-python",
   "name": "python",
   "nbconvert_exporter": "python",
   "pygments_lexer": "ipython3",
   "version": "3.11.5"
  }
 },
 "nbformat": 4,
 "nbformat_minor": 5
}
